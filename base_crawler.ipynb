{
 "cells": [
  {
   "cell_type": "markdown",
   "metadata": {},
   "source": [
    "# import "
   ]
  },
  {
   "cell_type": "code",
   "execution_count": 1,
   "metadata": {
    "collapsed": false
   },
   "outputs": [],
   "source": [
    "import re\n",
    "import requests\n",
    "from bs4 import BeautifulSoup\n",
    "import pickle"
   ]
  },
  {
   "cell_type": "markdown",
   "metadata": {},
   "source": [
    "# 取得先"
   ]
  },
  {
   "cell_type": "code",
   "execution_count": 2,
   "metadata": {
    "collapsed": false
   },
   "outputs": [
    {
     "data": {
      "text/plain": [
       "['https://www.aoyama.ac.jp/president_room/covid19',\n",
       " 'https://www.aoyama.ac.jp/admission/undergraduate/flow/freshman.html']"
      ]
     },
     "execution_count": 2,
     "metadata": {},
     "output_type": "execute_result"
    }
   ],
   "source": [
    "with open(\"check_URLs.txt\", \"r\") as f:\n",
    "    check_URLS = [line.replace(\"\\n\", \"\") for line in f]\n",
    "check_URLS"
   ]
  },
  {
   "cell_type": "code",
   "execution_count": 3,
   "metadata": {
    "collapsed": false
   },
   "outputs": [
    {
     "data": {
      "text/plain": [
       "['https://www.aoyama.ac.jp/emergency/']"
      ]
     },
     "execution_count": 3,
     "metadata": {},
     "output_type": "execute_result"
    }
   ],
   "source": [
    "with open(\"must_check_URLs.txt\", \"r\") as f:\n",
    "    must_URLS = [line.replace(\"\\n\", \"\") for line in f]\n",
    "must_URLS"
   ]
  },
  {
   "cell_type": "markdown",
   "metadata": {},
   "source": [
    "# 取得済み情報の読み込み"
   ]
  },
  {
   "cell_type": "code",
   "execution_count": 14,
   "metadata": {
    "collapsed": false
   },
   "outputs": [],
   "source": [
    "with open(\"information.pkl\", \"rb\") as f:\n",
    "    information = pickle.load(f)"
   ]
  },
  {
   "cell_type": "markdown",
   "metadata": {},
   "source": [
    "# 日付と text と URL を取得する関数"
   ]
  },
  {
   "cell_type": "code",
   "execution_count": 5,
   "metadata": {
    "collapsed": true
   },
   "outputs": [],
   "source": [
    "def get_relation(content):\n",
    "    text = content.text\n",
    "    if not content.has_attr(\"href\"):\n",
    "        return False\n",
    "    url = content[\"href\"]\n",
    "    if \"https://www.aoyama.ac.jp\" in url:\n",
    "        pass    \n",
    "    elif url[:4] != \"http\" or url[:3] == \"#id\":\n",
    "        return False\n",
    "    else:\n",
    "        url = \"https://www.aoyama.ac.jp\" + url\n",
    "    date = re.search(r'[0-9]*\\.[0-9]+\\.[0-9]+', text)\n",
    "    if date is not None:\n",
    "        date = date.group().replace(\".\", \"/\")\n",
    "    else:\n",
    "        date = re.search(r'[0-9]*.[0-9]+月[0-9]+日', text)\n",
    "        if date is not None:\n",
    "            date = date.group()\n",
    "            # 正規表現ゆるゆるなので（4月などの（が入るかも\n",
    "            if date[0] not in set(\"0123456789\"):\n",
    "                date = date[1:]            \n",
    "            if \"年\" not in date:\n",
    "                date = \"2020/\"+date\n",
    "            else:\n",
    "                date = date.replace(\"年\", \"/\")\n",
    "            # 面倒なのでごり押し\n",
    "            for r, n in [[\"/\"+str(i)+\"月\", \"/0\"+str(i)+\"/\"] for i in range(1, 10)]:\n",
    "                date = date.replace(r, n)\n",
    "            for r, n in [[\"/\"+str(i)+\"日\", \"/0\"+str(i)] for i in range(1, 10)]:\n",
    "                date = date.replace(r, n)\n",
    "            date = date.replace(\"月\", \"/\").replace(\"日\", \"\")\n",
    "            \n",
    "    if date is None:\n",
    "        return False\n",
    "    \n",
    "    if date not in information:\n",
    "        information[date] = [{\"text\":text, \"url\":url}]\n",
    "    else:\n",
    "        information[date].append({\"text\":text, \"url\":url})\n",
    "    #print(date, text, url)"
   ]
  },
  {
   "cell_type": "code",
   "execution_count": 6,
   "metadata": {
    "collapsed": true
   },
   "outputs": [],
   "source": [
    "def check_must(url):\n",
    "    for must in must_URLS:\n",
    "        if must in url:\n",
    "            return True\n",
    "    return False"
   ]
  },
  {
   "cell_type": "markdown",
   "metadata": {},
   "source": [
    "# get_emergency\n",
    "赤いやつを get する"
   ]
  },
  {
   "cell_type": "code",
   "execution_count": 8,
   "metadata": {
    "collapsed": true
   },
   "outputs": [],
   "source": [
    "html = requests.get(check_URLS[0])"
   ]
  },
  {
   "cell_type": "code",
   "execution_count": 9,
   "metadata": {
    "collapsed": false
   },
   "outputs": [
    {
     "data": {
      "text/plain": [
       "[<a class=\"text\" href=\"https://www.aoyama.ac.jp/emergency/20200427_01\"><p class=\"emergency-text\"><span class=\"emergency-date\">2020.04.27：</span>【重要・緊急】学生への経済的支援について</p></a>,\n",
       " <a class=\"text\" href=\"https://www.aoyama.ac.jp/emergency/20200407_01\"><p class=\"emergency-text\"><span class=\"emergency-date\">2020.04.14：</span>【重要・緊急】新型コロナウイルス感染症（COVID-19）の拡大に伴う入構禁止措置について（2020.04.14更新）</p></a>,\n",
       " <a class=\"text\" href=\"https://www.aoyama.ac.jp/emergency/20200409\"><p class=\"emergency-text\"><span class=\"emergency-date\">2020.04.09：</span>新型コロナウイルス感染症（COVID-19）に関するお知らせ（まとめ）(2020.04.25更新）</p></a>]"
      ]
     },
     "execution_count": 9,
     "metadata": {},
     "output_type": "execute_result"
    }
   ],
   "source": [
    "soup = BeautifulSoup(html.text, \"html.parser\")\n",
    "items = soup.findAll(\"a\")\n",
    "items = [item for item in items if item.has_attr(\"href\") and check_must(item[\"href\"])]\n",
    "items"
   ]
  },
  {
   "cell_type": "code",
   "execution_count": 10,
   "metadata": {
    "collapsed": false
   },
   "outputs": [
    {
     "data": {
      "text/plain": [
       "[None, None, None]"
      ]
     },
     "execution_count": 10,
     "metadata": {},
     "output_type": "execute_result"
    }
   ],
   "source": [
    "[get_relation(content) for content in items]"
   ]
  },
  {
   "cell_type": "markdown",
   "metadata": {},
   "source": [
    "# check_URLs\n",
    "対象の url から情報を get"
   ]
  },
  {
   "cell_type": "code",
   "execution_count": 11,
   "metadata": {
    "collapsed": false
   },
   "outputs": [],
   "source": [
    "for c_URL in check_URLS:\n",
    "    html = requests.get(c_URL)\n",
    "    soup = BeautifulSoup(html.text, \"html.parser\")\n",
    "    items = soup.findAll(\"div\", attrs=[\"section_inner\"])[0]\n",
    "    items = items.findAll()\n",
    "    items = [item.findAll(\"a\") for item in items]\n",
    "    items = [item for item in items if len(item) != 0]\n",
    "    items = list(set([info for item in items for info in item]))\n",
    "    [get_relation(content) for content in items]\n",
    "    items = soup.findAll(\"li\", attrs=[\"subject_item\"])\n",
    "    items = [item.findAll(\"a\") for item in items]\n",
    "    items = [item for item in items if len(item) != 0]\n",
    "    items = list(set([info for item in items for info in item]))\n",
    "    [get_relation(content) for content in items]"
   ]
  },
  {
   "cell_type": "code",
   "execution_count": 12,
   "metadata": {
    "collapsed": false
   },
   "outputs": [
    {
     "data": {
      "text/plain": [
       "{'2020/03/03': [{'text': '\\n2019年度卒業礼拝中止のお知らせ（2020年3月3日掲出）',\n",
       "   'url': 'https://www.aoyama.ac.jphttps://www.aoyamagakuin.jp/post_consistency/graduationservice/'}],\n",
       " '2020/03/23': [{'text': 'TOEIC IP・TOEFL ITPテストの実施変更について（3月23日更新）',\n",
       "   'url': 'https://www.aoyama.ac.jp/faculty/freshman/englishtest.html'}],\n",
       " '2020/04/03': [{'text': '留学・国際交流に関すること（4月3日更新）',\n",
       "   'url': 'https://www.aoyama.ac.jphttp://www.iec.aoyama.ac.jp/'}],\n",
       " '2020/04/06': [{'text': 'ITオリエンテーションに関すること（4月6日更新）',\n",
       "   'url': 'https://www.aoyama.ac.jphttps://www.aim.aoyama.ac.jp/readme-st/rm-s-fm/it-orientation/'},\n",
       "  {'text': '現代経済デザイン学科（4月6日更新）',\n",
       "   'url': 'https://www.aoyama.ac.jphttps://cdn.aoyama.ac.2xx.jp/wp-content/uploads/2020/04/122_a-1.pdf'},\n",
       "  {'text': '法学科（4月6日更新）',\n",
       "   'url': 'https://www.aoyama.ac.jphttps://cdn.aoyama.ac.2xx.jp/wp-content/uploads/2020/04/131_a-1.pdf'},\n",
       "  {'text': '経営学科・マーケティング学科（4月6日更新）',\n",
       "   'url': 'https://www.aoyama.ac.jphttps://cdn.aoyama.ac.2xx.jp/wp-content/uploads/2020/04/141_a-1.pdf'},\n",
       "  {'text': '比較芸術学科（4月6日更新）',\n",
       "   'url': 'https://www.aoyama.ac.jphttps://cdn.aoyama.ac.2xx.jp/wp-content/uploads/2020/04/118_a-1.pdf'},\n",
       "  {'text': 'フランス文学科（4月6日更新）',\n",
       "   'url': 'https://www.aoyama.ac.jphttps://cdn.aoyama.ac.2xx.jp/wp-content/uploads/2020/04/114_a-1.pdf'},\n",
       "  {'text': '経済学科（4月6日更新）',\n",
       "   'url': 'https://www.aoyama.ac.jphttps://cdn.aoyama.ac.2xx.jp/wp-content/uploads/2020/04/121_a-1.pdf'},\n",
       "  {'text': '国際政治学科・国際経済学科・国際コミュニケーション学科（4月6日更新）',\n",
       "   'url': 'https://www.aoyama.ac.jphttps://cdn.aoyama.ac.2xx.jp/wp-content/uploads/2020/04/161_a-1.pdf'},\n",
       "  {'text': '総合文化政策学科（4月6日更新）',\n",
       "   'url': 'https://www.aoyama.ac.jphttps://cdn.aoyama.ac.2xx.jp/wp-content/uploads/2020/04/171_a-1.pdf'},\n",
       "  {'text': '日本文学科（4月6日更新）',\n",
       "   'url': 'https://www.aoyama.ac.jphttps://cdn.aoyama.ac.2xx.jp/wp-content/uploads/2020/04/115_a-1.pdf'},\n",
       "  {'text': '教育学科（4月6日更新）',\n",
       "   'url': 'https://www.aoyama.ac.jphttps://cdn.aoyama.ac.2xx.jp/wp-content/uploads/2020/04/191_a-2.pdf'},\n",
       "  {'text': '史学科（4月6日更新）',\n",
       "   'url': 'https://www.aoyama.ac.jphttps://cdn.aoyama.ac.2xx.jp/wp-content/uploads/2020/04/116_a-1.pdf'},\n",
       "  {'text': '心理学科（4月6日更新）',\n",
       "   'url': 'https://www.aoyama.ac.jphttps://cdn.aoyama.ac.2xx.jp/wp-content/uploads/2020/04/192_a-1.pdf'}],\n",
       " '2020/04/08': [{'text': '地球社会共生学科（4月8日更新）',\n",
       "   'url': 'https://www.aoyama.ac.jphttps://cdn.aoyama.ac.2xx.jp/wp-content/uploads/2020/04/1A1_s-3.pdf'},\n",
       "  {'text': '電気電子工学科（4月8日更新）',\n",
       "   'url': 'https://www.aoyama.ac.jphttps://cdn.aoyama.ac.2xx.jp/wp-content/uploads/2020/04/154_s-3.pdf'},\n",
       "  {'text': '社会情報学科（4月8日更新）',\n",
       "   'url': 'https://www.aoyama.ac.jphttps://cdn.aoyama.ac.2xx.jp/wp-content/uploads/2020/04/181_s-3.pdf'},\n",
       "  {'text': 'コミュニティ人間科学科（4月8日更新）',\n",
       "   'url': 'https://www.aoyama.ac.jphttps://cdn.aoyama.ac.2xx.jp/wp-content/uploads/2020/04/1B1_s-3.pdf'},\n",
       "  {'text': '物理・数理学科（4月8日更新）',\n",
       "   'url': 'https://www.aoyama.ac.jphttps://cdn.aoyama.ac.2xx.jp/wp-content/uploads/2020/04/151_s-3.pdf'},\n",
       "  {'text': '経営システム工学科（4月8日更新）',\n",
       "   'url': 'https://www.aoyama.ac.jphttps://cdn.aoyama.ac.2xx.jp/wp-content/uploads/2020/04/157_s-3.pdf'},\n",
       "  {'text': '化学・生命科学科（4月8日更新）',\n",
       "   'url': 'https://www.aoyama.ac.jphttps://cdn.aoyama.ac.2xx.jp/wp-content/uploads/2020/04/152_s-3.pdf'},\n",
       "  {'text': '情報テクノロジー学科（4月8日更新）',\n",
       "   'url': 'https://www.aoyama.ac.jphttps://cdn.aoyama.ac.2xx.jp/wp-content/uploads/2020/04/158_s-3.pdf'},\n",
       "  {'text': '機械創造工学科（4月8日更新）',\n",
       "   'url': 'https://www.aoyama.ac.jphttps://cdn.aoyama.ac.2xx.jp/wp-content/uploads/2020/04/156_s-3.pdf'}],\n",
       " '2020/04/09': [{'text': '2020.04.09：新型コロナウイルス感染症（COVID-19）に関するお知らせ（まとめ）(2020.04.25更新）',\n",
       "   'url': 'https://www.aoyama.ac.jp/emergency/20200409'}],\n",
       " '2020/04/13': [{'text': '英米文学科（4月13日更新）',\n",
       "   'url': 'https://www.aoyama.ac.jphttps://cdn.aoyama.ac.2xx.jp/wp-content/uploads/2020/04/113_a-2.pdf'}],\n",
       " '2020/04/14': [{'text': '2020.04.14：【重要・緊急】新型コロナウイルス感染症（COVID-19）の拡大に伴う入構禁止措置について（2020.04.14更新）',\n",
       "   'url': 'https://www.aoyama.ac.jp/emergency/20200407_01'}],\n",
       " '2020/04/22': [{'text': '大学院および専門職大学院に関するお知らせ（4月22日更新）',\n",
       "   'url': 'https://www.aoyama.ac.jp/admission/graduate/information/events.html'}],\n",
       " '2020/04/25': [{'text': '学生生活に関すること（学生証・奨学金・健康診断・スポーツ推薦ガイダンス・イベント等）（4月25日更新）',\n",
       "   'url': 'https://www.aoyama.ac.jp/faculty/freshman/campuslife-covid/'}],\n",
       " '2020/04/27': [{'text': '2020.04.27：【重要・緊急】学生への経済的支援について',\n",
       "   'url': 'https://www.aoyama.ac.jp/emergency/20200427_01'}]}"
      ]
     },
     "execution_count": 12,
     "metadata": {},
     "output_type": "execute_result"
    }
   ],
   "source": [
    "information"
   ]
  },
  {
   "cell_type": "code",
   "execution_count": 13,
   "metadata": {
    "collapsed": true
   },
   "outputs": [],
   "source": [
    "with open(\"information.pkl\", \"wb\") as f:\n",
    "    pickle.dump(information, f)"
   ]
  },
  {
   "cell_type": "code",
   "execution_count": 19,
   "metadata": {
    "collapsed": true
   },
   "outputs": [],
   "source": [
    "import json\n",
    "#json 化\n",
    "with open(\"information.json\", \"w\", encoding=\"utf8\") as f:\n",
    "    infor\n",
    "    json.dump(information, f,ensure_ascii=False)"
   ]
  },
  {
   "cell_type": "code",
   "execution_count": 18,
   "metadata": {
    "collapsed": true
   },
   "outputs": [],
   "source": [
    "?json.dump"
   ]
  },
  {
   "cell_type": "code",
   "execution_count": null,
   "metadata": {
    "collapsed": true
   },
   "outputs": [],
   "source": []
  }
 ],
 "metadata": {
  "kernelspec": {
   "display_name": "Python [Root]",
   "language": "python",
   "name": "Python [Root]"
  },
  "language_info": {
   "codemirror_mode": {
    "name": "ipython",
    "version": 3
   },
   "file_extension": ".py",
   "mimetype": "text/x-python",
   "name": "python",
   "nbconvert_exporter": "python",
   "pygments_lexer": "ipython3",
   "version": "3.5.2"
  }
 },
 "nbformat": 4,
 "nbformat_minor": 0
}
